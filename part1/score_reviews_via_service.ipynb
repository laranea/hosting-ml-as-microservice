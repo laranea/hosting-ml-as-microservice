{
  "nbformat": 4,
  "nbformat_minor": 0,
  "metadata": {
    "anaconda-cloud": {},
    "kernelspec": {
      "display_name": "Python 3",
      "language": "python",
      "name": "python3"
    },
    "language_info": {
      "codemirror_mode": {
        "name": "ipython",
        "version": 2
      },
      "file_extension": ".py",
      "mimetype": "text/x-python",
      "name": "python",
      "nbconvert_exporter": "python",
      "pygments_lexer": "ipython2",
      "version": "2.7.3"
    },
    "pycharm": {
      "stem_cell": {
        "cell_type": "raw",
        "metadata": {
          "collapsed": false
        },
        "source": []
      }
    },
    "colab": {
      "name": "score_reviews_via_service.ipynb",
      "provenance": []
    }
  },
  "cells": [
    {
      "cell_type": "markdown",
      "metadata": {
        "id": "0WPUOK8Es-fN",
        "colab_type": "text"
      },
      "source": [
        "## Part 1: Existing Machine Learning Services\n",
        "\n",
        "<a href=\"https://colab.research.google.com/github/peckjon/hosting-ml-as-microservice/blob/master/part1/score_reviews_via_service.ipynb\" target=\"_parent\"><img src=\"https://colab.research.google.com/assets/colab-badge.svg\" alt=\"Open In Colab\"/></a>"
      ]
    },
    {
      "cell_type": "markdown",
      "metadata": {
        "id": "TBwtuJvQs-fR",
        "colab_type": "text"
      },
      "source": [
        "### Obtain labelled reviews\n",
        "\n",
        "In order to test any of the sentiment analysis APIs, we need a labelled dataset of reviews and their sentiment polarity. We'll use NLTK to download the movie_reviews corpus."
      ]
    },
    {
      "cell_type": "code",
      "metadata": {
        "pycharm": {
          "name": "#%%\n"
        },
        "id": "qcAnr2uus-fT",
        "colab_type": "code",
        "colab": {
          "base_uri": "https://localhost:8080/",
          "height": 68
        },
        "outputId": "46dde8a5-af85-4bff-9770-b119c8adfeee"
      },
      "source": [
        "from nltk import download\n",
        "\n",
        "download('movie_reviews')"
      ],
      "execution_count": 82,
      "outputs": [
        {
          "output_type": "stream",
          "text": [
            "[nltk_data] Downloading package movie_reviews to /root/nltk_data...\n",
            "[nltk_data]   Package movie_reviews is already up-to-date!\n"
          ],
          "name": "stdout"
        },
        {
          "output_type": "execute_result",
          "data": {
            "text/plain": [
              "True"
            ]
          },
          "metadata": {
            "tags": []
          },
          "execution_count": 82
        }
      ]
    },
    {
      "cell_type": "markdown",
      "metadata": {
        "id": "ZGzSkvV8s-fZ",
        "colab_type": "text"
      },
      "source": [
        "### Load the data\n",
        "\n",
        "The files in movie_reviews have already been divided into two sets: positive ('pos') and negative ('neg'), so we can load the raw text of the reviews into two lists, one for each polarity."
      ]
    },
    {
      "cell_type": "code",
      "metadata": {
        "id": "pniRw1hGs-fa",
        "colab_type": "code",
        "colab": {}
      },
      "source": [
        "from nltk.corpus import movie_reviews\n",
        "\n",
        "# extract words from reviews, pair with label\n",
        "\n",
        "reviews_pos = []\n",
        "for fileid in movie_reviews.fileids('pos'):\n",
        "    review = movie_reviews.raw(fileid)\n",
        "    reviews_pos.append(review)\n",
        "\n",
        "reviews_neg = []\n",
        "for fileid in movie_reviews.fileids('neg'):\n",
        "    review = movie_reviews.raw(fileid)\n",
        "    reviews_neg.append(review)"
      ],
      "execution_count": 0,
      "outputs": []
    },
    {
      "cell_type": "markdown",
      "metadata": {
        "id": "PXMj1N4as-fh",
        "colab_type": "text"
      },
      "source": [
        "### Connect to the scoring API\n",
        "\n",
        "Fill in this function with code that connects to one of these APIs, and uses it to score a single review:\n",
        "\n",
        "* [Amazon Comprehend: Detect Sentiment](https://docs.aws.amazon.com/comprehend/latest/dg/API_DetectSentiment.html)\n",
        "* [Google Natural Language: Analyzing Sentiment](https://cloud.google.com/natural-language/docs/analyzing-sentiment)\n",
        "* [Azure Cognitive Services: Sentiment Analysis](https://docs.microsoft.com/en-us/azure/cognitive-services/text-analytics/how-tos/text-analytics-how-to-sentiment-analysis)\n",
        "* [Algorithmia: Sentiment Analysis](https://algorithmia.com/algorithms/nlp/SentimentAnalysis)\n",
        "\n",
        "Your function must return either 'pos' or 'neg', so you'll need to make some decisions about how to map the results of the API call to one of these values. For example, Amazon Comprehend can return \"NEUTRAL\" or \"MIXED\" for the Sentiment -- if this happens, you may with to inspect the numeric values under the SentimentScore to see whether it leans toward positive or negative.\n"
      ]
    },
    {
      "cell_type": "code",
      "metadata": {
        "id": "DbK2xVdtvxX3",
        "colab_type": "code",
        "colab": {
          "base_uri": "https://localhost:8080/",
          "height": 34
        },
        "outputId": "e517c50d-8f04-41cd-8d90-8a34bf867cb4"
      },
      "source": [
        "import os\n",
        "print(os.getcwd())\n",
        "os.environ['GOOGLE_APPLICATION_CREDENTIALS'] = \"./service-account.json\""
      ],
      "execution_count": 84,
      "outputs": [
        {
          "output_type": "stream",
          "text": [
            "/content\n"
          ],
          "name": "stdout"
        }
      ]
    },
    {
      "cell_type": "code",
      "metadata": {
        "id": "AFC6eMAss-fj",
        "colab_type": "code",
        "colab": {}
      },
      "source": [
        "from google.cloud import language_v1\n",
        "from google.cloud.language_v1 import enums\n",
        "\n",
        "def score_review(review):\n",
        "  client = language_v1.LanguageServiceClient()\n",
        "  document = {\n",
        "      \"content\": review,\n",
        "      \"type\": enums.Document.Type.PLAIN_TEXT,\n",
        "      \"language\": \"en\"\n",
        "  }\n",
        "  response = client.analyze_sentiment(\n",
        "      document, encoding_type=enums.EncodingType.UTF8\n",
        "  )\n",
        "\n",
        "  sentiment_score = response.document_sentiment.score\n",
        "\n",
        "  return 'pos' if sentiment_score >= 0.0 else 'neg'"
      ],
      "execution_count": 0,
      "outputs": []
    },
    {
      "cell_type": "markdown",
      "metadata": {
        "id": "RetmuMgBs-fo",
        "colab_type": "text"
      },
      "source": [
        "### Score each review\n",
        "\n",
        "Now, we can use the function you defined to score each of the reviews"
      ]
    },
    {
      "cell_type": "code",
      "metadata": {
        "id": "-iz-FhmIs-fq",
        "colab_type": "code",
        "colab": {
          "base_uri": "https://localhost:8080/",
          "height": 204
        },
        "outputId": "8d4985d5-acce-49be-a738-eb2d045db83b"
      },
      "source": [
        "print(f\"Scoring positive reviews {len(reviews_pos)}\")\n",
        "results_pos = []\n",
        "for i, review in enumerate(reviews_pos):\n",
        "    if i % 100 == 0:\n",
        "      print(i)\n",
        "    result = score_review(review)\n",
        "    results_pos.append(result)"
      ],
      "execution_count": 86,
      "outputs": [
        {
          "output_type": "stream",
          "text": [
            "Scoring positive reviews 1000\n",
            "0\n",
            "100\n",
            "200\n",
            "300\n",
            "400\n",
            "500\n",
            "600\n",
            "700\n",
            "800\n",
            "900\n"
          ],
          "name": "stdout"
        }
      ]
    },
    {
      "cell_type": "code",
      "metadata": {
        "id": "7jaTTGymCVIB",
        "colab_type": "code",
        "colab": {
          "base_uri": "https://localhost:8080/",
          "height": 204
        },
        "outputId": "655c362e-c538-4d6d-b15a-51505360582b"
      },
      "source": [
        "print(f\"Scoring negative reviews {len(reviews_neg)}\")\n",
        "results_neg = []\n",
        "for i, review in enumerate(reviews_neg):\n",
        "    if i % 100 == 0:\n",
        "      print(i)\n",
        "    result = score_review(review)\n",
        "    results_neg.append(result)"
      ],
      "execution_count": 87,
      "outputs": [
        {
          "output_type": "stream",
          "text": [
            "Scoring negative reviews 1000\n",
            "0\n",
            "100\n",
            "200\n",
            "300\n",
            "400\n",
            "500\n",
            "600\n",
            "700\n",
            "800\n",
            "900\n"
          ],
          "name": "stdout"
        }
      ]
    },
    {
      "cell_type": "markdown",
      "metadata": {
        "id": "t4ldycsls-fv",
        "colab_type": "text"
      },
      "source": [
        "### Calculate accuracy\n",
        "\n",
        "For each of our known positive reviews, we can count the number which our function scored as 'pos', and use this to calculate the % accuracy. We repeaty this for negative reviews, and also for overall accuracy."
      ]
    },
    {
      "cell_type": "code",
      "metadata": {
        "id": "rAqHjNgxs-fx",
        "colab_type": "code",
        "colab": {
          "base_uri": "https://localhost:8080/",
          "height": 68
        },
        "outputId": "d133fb85-1ecc-4701-8fd9-bb877eb715c0"
      },
      "source": [
        "correct_pos = results_pos.count('pos')\n",
        "accuracy_pos = float(correct_pos) / len(results_pos)\n",
        "correct_neg = results_neg.count('neg')\n",
        "accuracy_neg = float(correct_neg) / len(results_neg)\n",
        "correct_all = correct_pos + correct_neg\n",
        "accuracy_all = float(correct_all) / (len(results_pos)+len(results_neg))\n",
        "\n",
        "print('Positive reviews: {}% correct'.format(accuracy_pos*100))\n",
        "print('Negative reviews: {}% correct'.format(accuracy_neg*100))\n",
        "print('Overall accuracy: {}% correct'.format(accuracy_all*100))"
      ],
      "execution_count": 88,
      "outputs": [
        {
          "output_type": "stream",
          "text": [
            "Positive reviews: 93.30000000000001% correct\n",
            "Negative reviews: 65.8% correct\n",
            "Overall accuracy: 79.55% correct\n"
          ],
          "name": "stdout"
        }
      ]
    },
    {
      "cell_type": "code",
      "metadata": {
        "id": "JogWAxcQFZ5s",
        "colab_type": "code",
        "colab": {}
      },
      "source": [
        ""
      ],
      "execution_count": 0,
      "outputs": []
    }
  ]
}